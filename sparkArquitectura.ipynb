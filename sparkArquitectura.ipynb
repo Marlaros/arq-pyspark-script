{
 "cells": [
  {
   "cell_type": "code",
   "execution_count": 34,
   "metadata": {},
   "outputs": [],
   "source": [
    "from pyspark.sql import SparkSession\n",
    "from pyspark.sql.functions import col\n",
    "\n",
    "# Crear Sesion de Spark\n",
    "spark = SparkSession.builder.appName(\"Arquitectura 1\").config(\"spark.sql.legacy.timeParserPolicy\", \"LEGACY\").getOrCreate()"
   ]
  },
  {
   "cell_type": "code",
   "execution_count": 35,
   "metadata": {},
   "outputs": [
    {
     "name": "stdout",
     "output_type": "stream",
     "text": [
      "+----------+----------------+--------------------+--------------+----------+---------------------------+-----------------------------+---------------------+--------+\n",
      "|     Fecha|      Cargadores|    Punto de Entrega|     Gasoducto|Progresiva|Volumen Nominado (miles m3)|Volumen Autorizado (miles m3)|Volumen CF (miles m3)|Contrato|\n",
      "+----------+----------------+--------------------+--------------+----------+---------------------------+-----------------------------+---------------------+--------+\n",
      "|08/01/2023|   30-71166333-5|   Alejandro Roca II|  Centro Oeste|     862,0|                      30,00|                        30,00|                 0,00|   TI457|\n",
      "|08/01/2023|   30-60080273-5|  Catamarca-La Rioja|         Norte|     852,3|                       5,66|                         5,66|                 5,66|   TF109|\n",
      "|08/01/2023|   30-61211333-1|  Catamarca-La Rioja|         Norte|     852,3|                      10,00|                        10,00|                10,00|   TF120|\n",
      "|08/01/2023|   30-50407899-6|         Cordoba Sur|         Norte|   1.120,0|                       6,18|                         6,18|                 6,18|   TF114|\n",
      "|08/01/2023|   30-51879615-8|         Cordoba Sur|         Norte|   1.120,0|                       5,15|                         5,15|                 5,15|   TF115|\n",
      "|08/01/2023|   30-50401884-5|         Cordoba Sur|         Norte|   1.120,0|                       0,40|                         0,40|                10,30|   TF121|\n",
      "|08/01/2023|   30-71089832-0|CT PLUSTPETROL NO...|         Norte|     599,5|                       0,00|                         0,00|               750,00|    TF41|\n",
      "|08/01/2023|   30-71572954-3|         GNL La Mora|  Centro Oeste|     431,0|                     178,07|                       178,07|                 0,00|   TI432|\n",
      "|08/01/2023|   30-52243765-0|       Tucuman Norte|         Norte|     581,9|                      25,30|                        25,30|                25,30|   TF 96|\n",
      "|08/01/2023|ABC ENERG�A S.A.|            Zona GBA|Tramos Finales|       0,0|                      52,00|                        52,00|                 0,00|   ED412|\n",
      "+----------+----------------+--------------------+--------------+----------+---------------------------+-----------------------------+---------------------+--------+\n",
      "only showing top 10 rows\n",
      "\n"
     ]
    }
   ],
   "source": [
    "#Se lee el archivo\n",
    "\n",
    "df = spark.read.csv(\"TGN_Entrega_GBA_Agosto.csv\", header=\"true\",sep=\";\")\n",
    "\n",
    "df.show(10)"
   ]
  },
  {
   "cell_type": "code",
   "execution_count": 36,
   "metadata": {},
   "outputs": [
    {
     "name": "stdout",
     "output_type": "stream",
     "text": [
      "Volumen Nominado Total por mes\n",
      "+---+-------------------------+----------------------+\n",
      "|mes|volumen_nominado_promedio|volumen_nominado_total|\n",
      "+---+-------------------------+----------------------+\n",
      "|  8|        3471.874452266243|  1.3486149122382995E8|\n",
      "+---+-------------------------+----------------------+\n",
      "\n"
     ]
    }
   ],
   "source": [
    "from pyspark.sql.functions import to_date, month, avg, sum, col, when, regexp_replace, expr\n",
    "\n",
    "# Convertir la columna 'fecha' al formato de fecha correcto\n",
    "df1 = df.withColumn('Fecha', when(expr(\"substring(Fecha, 5, 1) = '/'\"), to_date('Fecha', 'dd/MM/yyyy')).otherwise(to_date('Fecha', 'MM/dd/yyyy')))\n",
    "\n",
    "# Reemplazar comas en 'Volumen Nominado (miles m3)' y convertir a tipo numérico\n",
    "df1 = df1.withColumn('Volumen Nominado (miles m3)', regexp_replace('Volumen Nominado (miles m3)', ',', '').cast('double'))\n",
    "\n",
    "# Reemplazar nulos en 'Volumen Nominado (miles m3)' con 0\n",
    "df1 = df1.withColumn('Volumen Nominado (miles m3)', when(col('Volumen Nominado (miles m3)').isNull(), 0).otherwise(col('Volumen Nominado (miles m3)')))\n",
    "\n",
    "# Agregar una columna adicional para identificar valores no numéricos\n",
    "df1 = df1.withColumn('EsNumerico', when(df1['Volumen Nominado (miles m3)'].cast('string').rlike('^[0-9]+\\\\.?[0-9]*$'), 1).otherwise(0))\n",
    "\n",
    "# Filtrar registros donde la columna no es numérica\n",
    "df1 = df1.filter(df1['EsNumerico'] == 1)\n",
    "\n",
    "result = df1.groupBy(month('Fecha').alias('mes')).agg(\n",
    "    avg('Volumen Nominado (miles m3)').alias('volumen_nominado_promedio'),\n",
    "    sum('Volumen Nominado (miles m3)').alias('volumen_nominado_total')\n",
    ")\n",
    "\n",
    "print(\"Volumen Nominado Total por mes\")\n",
    "result.show()"
   ]
  },
  {
   "cell_type": "code",
   "execution_count": 31,
   "metadata": {},
   "outputs": [
    {
     "name": "stdout",
     "output_type": "stream",
     "text": [
      "Volumen Nominado Total: Por Gasoducto y Puntos de Entrega\n",
      "+--------------------+--------------+--------------------------+\n",
      "|    Punto de Entrega|     Gasoducto|sumatoria_volumen_nominado|\n",
      "+--------------------+--------------+--------------------------+\n",
      "|              Casaro|         Norte|        0.8000000000000004|\n",
      "|       Centro Este 1|         Norte|                   1827.88|\n",
      "|            Morrison|         Norte|        131.54000000000002|\n",
      "|             Arteaga|  Centro Oeste|                    336.37|\n",
      "|Valle de Calamuchita|         Norte|        12592.520000000002|\n",
      "|        Zona Litoral|Tramos Finales|        116497.95999999977|\n",
      "|Lib. Gral. San Ma...|         Norte|        1096.2300000000002|\n",
      "|            Aldea ER|  PetroUruguay|        31552.049999999992|\n",
      "|Torzalito - C.T. ...|         Norte|        2802.8100000000004|\n",
      "|            Lamadrid|         Norte|         7846.029999999998|\n",
      "+--------------------+--------------+--------------------------+\n",
      "only showing top 10 rows\n",
      "\n"
     ]
    }
   ],
   "source": [
    "# Calcular la sumatoria de volúmenes nominados por Punto de Entrega y Gasoducto\n",
    "\n",
    "result2 = df1.groupBy('Punto de Entrega','Gasoducto').agg(sum('Volumen Nominado (miles m3)').alias('sumatoria_volumen_nominado'))\n",
    "\n",
    "print(\"Volumen Nominado Total: Por Gasoducto y Puntos de Entrega\")\n",
    "result2.show(10)"
   ]
  },
  {
   "cell_type": "code",
   "execution_count": 37,
   "metadata": {},
   "outputs": [
    {
     "name": "stdout",
     "output_type": "stream",
     "text": [
      "Volumen Autorizado Total: Por Gasoducto y Puntos de Entrega\n",
      "+--------------------+--------------+----------------------------+\n",
      "|    Punto de Entrega|     Gasoducto|sumatoria_volumen_autorizado|\n",
      "+--------------------+--------------+----------------------------+\n",
      "|              Casaro|         Norte|                        80.0|\n",
      "|       Centro Este 1|         Norte|                    182788.0|\n",
      "|            Morrison|         Norte|                     13154.0|\n",
      "|             Arteaga|  Centro Oeste|                     33051.0|\n",
      "|Valle de Calamuchita|         Norte|                   1221932.0|\n",
      "|        Zona Litoral|Tramos Finales|           9201902.784030002|\n",
      "|Lib. Gral. San Ma...|         Norte|                    109623.0|\n",
      "|            Aldea ER|  PetroUruguay|                   3148527.0|\n",
      "|Torzalito - C.T. ...|         Norte|                    151251.0|\n",
      "|            Lamadrid|         Norte|                    779625.0|\n",
      "|            Arequito|  Centro Oeste|                     50202.0|\n",
      "|         Montecristo|         Norte|                     46387.0|\n",
      "|            Santa Fe|Tramos Finales|                   1286792.0|\n",
      "|           Zona Cuyo|  Centro Oeste|          1039981.0721700006|\n",
      "|         San Basilio|  Centro Oeste|                     42436.0|\n",
      "|      Gasoducto Anta|         Norte|                    788819.0|\n",
      "|     Dreyfus Timbues|Tramos Finales|                    662484.0|\n",
      "|   Tartagal (ciudad)|         Norte|                     64643.0|\n",
      "|      Industrias RAR|         Norte|                         0.0|\n",
      "|  Catamarca-La Rioja|         Norte|                    665639.0|\n",
      "+--------------------+--------------+----------------------------+\n",
      "only showing top 20 rows\n",
      "\n"
     ]
    }
   ],
   "source": [
    "# Calcular la sumatoria de volúmenes autorizados por Punto de Entrega y Gasoducto\n",
    "\n",
    "# Reemplazar comas en 'volumen nominado' y convertir a tipo numérico\n",
    "df3 = df1.withColumn('Volumen Autorizado (miles m3)',regexp_replace('Volumen Autorizado (miles m3)', ',', '').cast('double'))\n",
    "\n",
    "# Reemplazar nulos en 'volumen nominado' con 0\n",
    "df3 = df3.withColumn('Volumen Autorizado (miles m3)', when(col('Volumen Autorizado (miles m3)').isNull(), 0).otherwise(col('Volumen Autorizado (miles m3)')))\n",
    "\n",
    "result3 = df3.groupBy('Punto de Entrega','Gasoducto').agg(sum('Volumen Autorizado (miles m3)').alias('sumatoria_volumen_autorizado'))\n",
    "\n",
    "print(\"Volumen Autorizado Total: Por Gasoducto y Puntos de Entrega\")\n",
    "result3.show()"
   ]
  },
  {
   "cell_type": "code",
   "execution_count": 38,
   "metadata": {},
   "outputs": [
    {
     "name": "stdout",
     "output_type": "stream",
     "text": [
      "Cantidad de Entregas por Cargador\n",
      "+--------------------+-----------------+\n",
      "|          Cargadores|cantidad_entregas|\n",
      "+--------------------+-----------------+\n",
      "|Petroquimica Rio ...|               31|\n",
      "|Compa�ia Administ...|             5859|\n",
      "| ENERGY TRADERS S.A.|               78|\n",
      "|RAFAEL ALBANESI S.A.|             1497|\n",
      "|     Pluspetrol S.A.|              279|\n",
      "|       Redengas S.A.|              310|\n",
      "|LATIN ENERGY GROU...|               37|\n",
      "|San Atanasio Ener...|              961|\n",
      "|Camuzzi Gas del S...|               24|\n",
      "|      TEPSI GAS S.A.|               31|\n",
      "|  GAS PATAGONIA S.A.|              338|\n",
      "|      GASMARKET S.A.|               31|\n",
      "|Distribuidora de ...|             8637|\n",
      "|       30-60080273-5|               31|\n",
      "|   Juan Minetti S.A.|               31|\n",
      "|      COROCOTTA S.A.|              155|\n",
      "| NATURAL ENERGY S.A.|              137|\n",
      "|ENERGY CONSULTING...|              183|\n",
      "| GAS MERIDIONAL S.A.|              341|\n",
      "|PAN AMERICAN ENER...|              341|\n",
      "+--------------------+-----------------+\n",
      "only showing top 20 rows\n",
      "\n"
     ]
    }
   ],
   "source": [
    "# Calcular la cantidad de entregas por cargador\n",
    "\n",
    "from pyspark.sql.functions import count\n",
    "\n",
    "result4 = df3.groupBy('Cargadores').agg(count('Fecha').alias('cantidad_entregas'))\n",
    "\n",
    "print(\"Cantidad de Entregas por Cargador\")\n",
    "result4.show()\n",
    "\n"
   ]
  },
  {
   "cell_type": "code",
   "execution_count": null,
   "metadata": {},
   "outputs": [],
   "source": [
    "#De PRUEBA: Grafico\n",
    "\"\"\"\n",
    "import matplotlib.pyplot as plt\n",
    "\n",
    "# Obtener los resultados\n",
    "result_df = result4.toPandas()\n",
    "\n",
    "# Crear un gráfico de barras : DE PRUEBA \n",
    "plt.figure(figsize=(12, 6))\n",
    "bars = plt.bar(result_df['Cargadores'], result_df['cantidad_entregas'])\n",
    "plt.ylabel('Cargadores')\n",
    "plt.xlabel('Cantidad de Entregas')\n",
    "plt.title('Cantidad de Entregas por Cargador')\n",
    "plt.xticks(rotation=45)\n",
    "plt.tight_layout()\n",
    "\n",
    "# Agregar etiquetas en las barras\n",
    "for bar in bars:\n",
    "    yval = bar.get_height()\n",
    "    plt.text(bar.get_x() + bar.get_width()/2, yval, int(yval), va='bottom', ha='center')\n",
    "\n",
    "# Ajustar el diseño\n",
    "plt.tight_layout()\n",
    "\n",
    "# Mostrar el gráfico\n",
    "plt.show()\n",
    "\"\"\""
   ]
  }
 ],
 "metadata": {
  "kernelspec": {
   "display_name": "Python 3",
   "language": "python",
   "name": "python3"
  },
  "language_info": {
   "codemirror_mode": {
    "name": "ipython",
    "version": 3
   },
   "file_extension": ".py",
   "mimetype": "text/x-python",
   "name": "python",
   "nbconvert_exporter": "python",
   "pygments_lexer": "ipython3",
   "version": "3.9.6"
  }
 },
 "nbformat": 4,
 "nbformat_minor": 4
}
